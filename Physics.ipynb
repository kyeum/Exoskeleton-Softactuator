{
 "cells": [
  {
   "cell_type": "code",
   "execution_count": null,
   "metadata": {},
   "outputs": [],
   "source": [
    "from vpython import *\n",
    "ball = sphere(pos=vec(0,10,0), radius=1, color=color.red)\n",
    "floor= box(pos=vec(0,0,0),size=vec(10,0.5,10),color=color.green)\n",
    "dt = 0.1 #time intervals\n",
    "ball.velocity = vector(0,-9.8,0)\n",
    "t = 0\n",
    "while(t<20):\n",
    "    ball.pos = ball.pos+ball.velocity*dt\n",
    "    t = t+dt\n"
   ]
  },
  {
   "cell_type": "code",
   "execution_count": null,
   "metadata": {},
   "outputs": [],
   "source": []
  }
 ],
 "metadata": {
  "kernelspec": {
   "display_name": "Python 3",
   "language": "python",
   "name": "python3"
  },
  "language_info": {
   "codemirror_mode": {
    "name": "ipython",
    "version": 3
   },
   "file_extension": ".py",
   "mimetype": "text/x-python",
   "name": "python",
   "nbconvert_exporter": "python",
   "pygments_lexer": "ipython3",
   "version": "3.7.4"
  }
 },
 "nbformat": 4,
 "nbformat_minor": 2
}
